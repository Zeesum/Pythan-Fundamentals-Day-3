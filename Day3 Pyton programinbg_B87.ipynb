{
 "cells": [
  {
   "cell_type": "markdown",
   "id": "84689b59-b9dc-42e3-9717-5765ef22c62b",
   "metadata": {},
   "source": []
  },
  {
   "cell_type": "code",
   "execution_count": 4,
   "id": "d4c0435d-b324-41b9-b931-424569db2c7e",
   "metadata": {},
   "outputs": [
    {
     "name": "stdout",
     "output_type": "stream",
     "text": [
      "raees shaikh\n"
     ]
    }
   ],
   "source": [
    "fullname=\"raees shaikh\"\n",
    "print(fullname)"
   ]
  },
  {
   "cell_type": "code",
   "execution_count": 5,
   "id": "bbd84960-b268-4e27-a517-ee4a33e2ff5b",
   "metadata": {},
   "outputs": [
    {
     "name": "stdout",
     "output_type": "stream",
     "text": [
      "Raees Shaikh\n"
     ]
    }
   ],
   "source": [
    "print(fullname.title())"
   ]
  },
  {
   "cell_type": "code",
   "execution_count": 6,
   "id": "149e6dd9-8498-4535-84d9-66833a7397d9",
   "metadata": {},
   "outputs": [
    {
     "name": "stdout",
     "output_type": "stream",
     "text": [
      "RAEES SHAIKH\n"
     ]
    }
   ],
   "source": [
    "print(fullname.upper())"
   ]
  },
  {
   "cell_type": "code",
   "execution_count": 7,
   "id": "12f97589-3870-49c8-9880-19a3a72086b3",
   "metadata": {},
   "outputs": [
    {
     "name": "stdout",
     "output_type": "stream",
     "text": [
      "raees shaikh\n"
     ]
    }
   ],
   "source": [
    "print(fullname.lower())"
   ]
  },
  {
   "cell_type": "code",
   "execution_count": null,
   "id": "e621362b-a682-48df-966d-ab1eaf32c14d",
   "metadata": {},
   "outputs": [],
   "source": [
    "F Strings\n",
    "first_name = \"raees\" \n",
    "last_name = \"shaikh\"\n",
    "fullname= f\"{first_name}.{last_name}\"\n"
   ]
  },
  {
   "cell_type": "code",
   "execution_count": 9,
   "id": "5cbec302-c2e2-4ab1-8a1b-6d7ddab8706e",
   "metadata": {},
   "outputs": [
    {
     "name": "stdout",
     "output_type": "stream",
     "text": [
      "Raees Shaikh\n"
     ]
    }
   ],
   "source": [
    "print(fullname.title())"
   ]
  },
  {
   "cell_type": "code",
   "execution_count": 15,
   "id": "78dfb75a-9e3c-425c-9a78-f5a5c0541395",
   "metadata": {},
   "outputs": [
    {
     "name": "stdout",
     "output_type": "stream",
     "text": [
      "Keep up the good work Raees Shaikh\n"
     ]
    }
   ],
   "source": [
    "Message= f\"Keep up the good work {fullname.title()}\"\n",
    "print(Message)"
   ]
  },
  {
   "cell_type": "code",
   "execution_count": 24,
   "id": "938531d2-c718-401d-9a56-a6d9166b2494",
   "metadata": {},
   "outputs": [
    {
     "ename": "SyntaxError",
     "evalue": "invalid syntax (1659489262.py, line 1)",
     "output_type": "error",
     "traceback": [
      "\u001b[1;36m  Cell \u001b[1;32mIn[24], line 1\u001b[1;36m\u001b[0m\n\u001b[1;33m    Adding white spaces to strings\u001b[0m\n\u001b[1;37m           ^\u001b[0m\n\u001b[1;31mSyntaxError\u001b[0m\u001b[1;31m:\u001b[0m invalid syntax\n"
     ]
    }
   ],
   "source": [
    "Adding white spaces to strings\n",
    "fav_language= \"python\"\n",
    "print(\"fav_language\\npython\")"
   ]
  },
  {
   "cell_type": "code",
   "execution_count": null,
   "id": "52885bd6-adfe-4f87-8121-45b5cbdfed6e",
   "metadata": {},
   "outputs": [],
   "source": []
  }
 ],
 "metadata": {
  "kernelspec": {
   "display_name": "Python 3 (ipykernel)",
   "language": "python",
   "name": "python3"
  },
  "language_info": {
   "codemirror_mode": {
    "name": "ipython",
    "version": 3
   },
   "file_extension": ".py",
   "mimetype": "text/x-python",
   "name": "python",
   "nbconvert_exporter": "python",
   "pygments_lexer": "ipython3",
   "version": "3.11.7"
  }
 },
 "nbformat": 4,
 "nbformat_minor": 5
}
